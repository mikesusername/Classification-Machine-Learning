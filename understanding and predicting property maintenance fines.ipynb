{
 "cells": [
  {
   "cell_type": "markdown",
   "metadata": {},
   "source": [
    "---\n",
    "\n",
    "_You are currently looking at **version 1.0** of this notebook. To download notebooks and datafiles, as well as get help on Jupyter notebooks in the Coursera platform, visit the [Jupyter Notebook FAQ](https://www.coursera.org/learn/python-machine-learning/resources/bANLa) course resource._\n",
    "\n",
    "---"
   ]
  },
  {
   "cell_type": "markdown",
   "metadata": {},
   "source": [
    "## Assignment 4 - Understanding and Predicting Property Maintenance Fines\n",
    "\n",
    "This assignment is based on a data challenge from the Michigan Data Science Team ([MDST](http://midas.umich.edu/mdst/)). \n",
    "\n",
    "The Michigan Data Science Team ([MDST](http://midas.umich.edu/mdst/)) and the Michigan Student Symposium for Interdisciplinary Statistical Sciences ([MSSISS](https://sites.lsa.umich.edu/mssiss/)) have partnered with the City of Detroit to help solve one of the most pressing problems facing Detroit - blight. [Blight violations](http://www.detroitmi.gov/How-Do-I/Report/Blight-Complaint-FAQs) are issued by the city to individuals who allow their properties to remain in a deteriorated condition. Every year, the city of Detroit issues millions of dollars in fines to residents and every year, many of these fines remain unpaid. Enforcing unpaid blight fines is a costly and tedious process, so the city wants to know: how can we increase blight ticket compliance?\n",
    "\n",
    "The first step in answering this question is understanding when and why a resident might fail to comply with a blight ticket. This is where predictive modeling comes in. For this assignment, your task is to predict whether a given blight ticket will be paid on time.\n",
    "\n",
    "All data for this assignment has been provided to us through the [Detroit Open Data Portal](https://data.detroitmi.gov/). \n",
    "\n",
    "### Method Overview\n",
    "\n",
    "We will begin modeling with sklearn's logistic regression. Logistic regression is often a good place to begin, since it often performs well on data sets of this size and because it is remarkably fast to train and predict. We will see, below, that our data set is highly imbalanced, and we will illustrate common methods to overcome predictions on unbalanced datasets.\n",
    "\n",
    "We will then explore more computationally expensive methods to try to improve our results. Explanations of methods and motivations will be given along the way."
   ]
  },
  {
   "cell_type": "code",
   "execution_count": 182,
   "metadata": {},
   "outputs": [],
   "source": [
    "import pandas as pd\n",
    "import numpy as np\n",
    "from sklearn.linear_model import LogisticRegression\n",
    "from sklearn.model_selection import cross_val_score,LeaveOneOut,train_test_split\n",
    "import mglearn\n",
    "import matplotlib.pyplot as plt\n",
    "from sklearn.metrics import confusion_matrix,roc_auc_score,classification_report,roc_curve\n",
    "from sklearn.svm import SVC\n",
    "from sklearn.ensemble import RandomForestClassifier,GradientBoostingClassifier\n",
    "%matplotlib inline"
   ]
  },
  {
   "cell_type": "markdown",
   "metadata": {},
   "source": [
    "# Data Set"
   ]
  },
  {
   "cell_type": "code",
   "execution_count": 2,
   "metadata": {},
   "outputs": [
    {
     "name": "stderr",
     "output_type": "stream",
     "text": [
      "C:\\Users\\Mike\\Anaconda3\\lib\\site-packages\\IPython\\core\\interactiveshell.py:2728: DtypeWarning: Columns (11,12,31) have mixed types. Specify dtype option on import or set low_memory=False.\n",
      "  interactivity=interactivity, compiler=compiler, result=result)\n"
     ]
    }
   ],
   "source": [
    "df=pd.read_csv(\"train.csv\",encoding = 'ISO-8859-1')"
   ]
  },
  {
   "cell_type": "code",
   "execution_count": 3,
   "metadata": {},
   "outputs": [],
   "source": [
    "#Choose features that may be useful to helpful for prediction\n",
    "traincolumns=[\"fine_amount\",\"admin_fee\",\"state_fee\",\"late_fee\",\"discount_amount\",\"clean_up_cost\",\n",
    "              \"judgment_amount\",\"compliance\"]\n",
    "df=df[traincolumns]"
   ]
  },
  {
   "cell_type": "code",
   "execution_count": 4,
   "metadata": {},
   "outputs": [
    {
     "name": "stdout",
     "output_type": "stream",
     "text": [
      "1\n",
      "0\n",
      "0\n",
      "0\n",
      "0\n",
      "0\n",
      "0\n",
      "90426\n"
     ]
    }
   ],
   "source": [
    "#Check for NaN values\n",
    "for col in traincolumns:\n",
    "    print(df[col].isnull().sum())"
   ]
  },
  {
   "cell_type": "code",
   "execution_count": 5,
   "metadata": {},
   "outputs": [],
   "source": [
    "#Unfortunately, we will have to drop 90426 out of 250306 rows, since it doesn't contain values for the target.\n",
    "#dropping the one row that has one Nan in the second column is inconsequential\n",
    "df=df.dropna()"
   ]
  },
  {
   "cell_type": "code",
   "execution_count": 6,
   "metadata": {},
   "outputs": [
    {
     "data": {
      "text/plain": [
       "array([ 0.,  1.])"
      ]
     },
     "execution_count": 6,
     "metadata": {},
     "output_type": "execute_result"
    }
   ],
   "source": [
    "#Let us be sure that we, now, only have ones and zeros\n",
    "df.compliance.unique()"
   ]
  },
  {
   "cell_type": "code",
   "execution_count": 7,
   "metadata": {},
   "outputs": [
    {
     "data": {
      "text/html": [
       "<div>\n",
       "<style scoped>\n",
       "    .dataframe tbody tr th:only-of-type {\n",
       "        vertical-align: middle;\n",
       "    }\n",
       "\n",
       "    .dataframe tbody tr th {\n",
       "        vertical-align: top;\n",
       "    }\n",
       "\n",
       "    .dataframe thead th {\n",
       "        text-align: right;\n",
       "    }\n",
       "</style>\n",
       "<table border=\"1\" class=\"dataframe\">\n",
       "  <thead>\n",
       "    <tr style=\"text-align: right;\">\n",
       "      <th></th>\n",
       "      <th>fine_amount</th>\n",
       "      <th>admin_fee</th>\n",
       "      <th>state_fee</th>\n",
       "      <th>late_fee</th>\n",
       "      <th>discount_amount</th>\n",
       "      <th>clean_up_cost</th>\n",
       "      <th>judgment_amount</th>\n",
       "      <th>compliance</th>\n",
       "    </tr>\n",
       "  </thead>\n",
       "  <tbody>\n",
       "    <tr>\n",
       "      <th>0</th>\n",
       "      <td>250.0</td>\n",
       "      <td>20.0</td>\n",
       "      <td>10.0</td>\n",
       "      <td>25.0</td>\n",
       "      <td>0.0</td>\n",
       "      <td>0.0</td>\n",
       "      <td>305.0</td>\n",
       "      <td>0.0</td>\n",
       "    </tr>\n",
       "    <tr>\n",
       "      <th>1</th>\n",
       "      <td>750.0</td>\n",
       "      <td>20.0</td>\n",
       "      <td>10.0</td>\n",
       "      <td>75.0</td>\n",
       "      <td>0.0</td>\n",
       "      <td>0.0</td>\n",
       "      <td>855.0</td>\n",
       "      <td>1.0</td>\n",
       "    </tr>\n",
       "    <tr>\n",
       "      <th>5</th>\n",
       "      <td>250.0</td>\n",
       "      <td>20.0</td>\n",
       "      <td>10.0</td>\n",
       "      <td>25.0</td>\n",
       "      <td>0.0</td>\n",
       "      <td>0.0</td>\n",
       "      <td>305.0</td>\n",
       "      <td>0.0</td>\n",
       "    </tr>\n",
       "    <tr>\n",
       "      <th>6</th>\n",
       "      <td>750.0</td>\n",
       "      <td>20.0</td>\n",
       "      <td>10.0</td>\n",
       "      <td>75.0</td>\n",
       "      <td>0.0</td>\n",
       "      <td>0.0</td>\n",
       "      <td>855.0</td>\n",
       "      <td>0.0</td>\n",
       "    </tr>\n",
       "    <tr>\n",
       "      <th>7</th>\n",
       "      <td>100.0</td>\n",
       "      <td>20.0</td>\n",
       "      <td>10.0</td>\n",
       "      <td>10.0</td>\n",
       "      <td>0.0</td>\n",
       "      <td>0.0</td>\n",
       "      <td>140.0</td>\n",
       "      <td>0.0</td>\n",
       "    </tr>\n",
       "  </tbody>\n",
       "</table>\n",
       "</div>"
      ],
      "text/plain": [
       "   fine_amount  admin_fee  state_fee  late_fee  discount_amount  \\\n",
       "0        250.0       20.0       10.0      25.0              0.0   \n",
       "1        750.0       20.0       10.0      75.0              0.0   \n",
       "5        250.0       20.0       10.0      25.0              0.0   \n",
       "6        750.0       20.0       10.0      75.0              0.0   \n",
       "7        100.0       20.0       10.0      10.0              0.0   \n",
       "\n",
       "   clean_up_cost  judgment_amount  compliance  \n",
       "0            0.0            305.0         0.0  \n",
       "1            0.0            855.0         1.0  \n",
       "5            0.0            305.0         0.0  \n",
       "6            0.0            855.0         0.0  \n",
       "7            0.0            140.0         0.0  "
      ]
     },
     "execution_count": 7,
     "metadata": {},
     "output_type": "execute_result"
    }
   ],
   "source": [
    "#View the data set\n",
    "df.head()"
   ]
  },
  {
   "cell_type": "code",
   "execution_count": 8,
   "metadata": {},
   "outputs": [
    {
     "data": {
      "text/plain": [
       "0.927464348261196"
      ]
     },
     "execution_count": 8,
     "metadata": {},
     "output_type": "execute_result"
    }
   ],
   "source": [
    "#Check the balance of the data set\n",
    "len(df[df[\"compliance\"]==0])/len(df)"
   ]
  },
  {
   "cell_type": "markdown",
   "metadata": {},
   "source": [
    "We see that we have a highly imbalanced data set"
   ]
  },
  {
   "cell_type": "code",
   "execution_count": 9,
   "metadata": {},
   "outputs": [],
   "source": [
    "#Train test split\n",
    "X=df[traincolumns[:-1]]\n",
    "y=df.compliance\n",
    "X_train_val,X_test,y_train_val,y_test=train_test_split(X,y)\n",
    "X_train,X_valid,y_train,y_valid=train_test_split(X_train_val,y_train_val)"
   ]
  },
  {
   "cell_type": "markdown",
   "metadata": {},
   "source": [
    "# Logistic Regression"
   ]
  },
  {
   "cell_type": "code",
   "execution_count": 87,
   "metadata": {},
   "outputs": [],
   "source": [
    "model1=LogisticRegression(random_state=2).fit(X_train,y_train)"
   ]
  },
  {
   "cell_type": "code",
   "execution_count": 88,
   "metadata": {},
   "outputs": [
    {
     "name": "stdout",
     "output_type": "stream",
     "text": [
      "Train Accuracy: 0.9340835297780545\n",
      "Validation Accuracy: 0.9336847021148843\n"
     ]
    }
   ],
   "source": [
    "print(\"Train Accuracy: {}\\nValidation Accuracy: {}\".format(model1.score(X_train,y_train),\n",
    "                                                          model1.score(X_valid,y_valid)))"
   ]
  },
  {
   "cell_type": "markdown",
   "metadata": {},
   "source": [
    "The train and test score are nearly identical to the balance. Thus, I suspect the high imbalance has lead to a model that predicts the majority class. We must take measures to counteract this. But first, let's examine the confusion matrix, precision, recall, and auc_roc_score"
   ]
  },
  {
   "cell_type": "code",
   "execution_count": 89,
   "metadata": {},
   "outputs": [
    {
     "data": {
      "image/png": "[encoded data removed]",
      "text/plain": [
       "<matplotlib.figure.Figure at 0x218027184e0>"
      ]
     },
     "metadata": {},
     "output_type": "display_data"
    }
   ],
   "source": [
    "#plot the confusion matrix structure\n",
    "mglearn.plots.plot_binary_confusion_matrix()"
   ]
  },
  {
   "cell_type": "code",
   "execution_count": 90,
   "metadata": {},
   "outputs": [
    {
     "data": {
      "text/plain": [
       "array([[27761,    35],\n",
       "       [ 1953,   229]], dtype=int64)"
      ]
     },
     "execution_count": 90,
     "metadata": {},
     "output_type": "execute_result"
    }
   ],
   "source": [
    "#Our confusion matrix\n",
    "y1_pred_valid=model1.predict(X_valid)\n",
    "confusion_matrix(y_valid,y1_pred_valid)"
   ]
  },
  {
   "cell_type": "markdown",
   "metadata": {},
   "source": [
    "sklearn sorts classes in ascending order. Thus, the 0 class (majority class) is the negative class (top row), and the 1 class is the positive class."
   ]
  },
  {
   "cell_type": "code",
   "execution_count": 91,
   "metadata": {},
   "outputs": [
    {
     "name": "stdout",
     "output_type": "stream",
     "text": [
      "             precision    recall  f1-score   support\n",
      "\n",
      "        0.0       0.93      1.00      0.97     27796\n",
      "        1.0       0.87      0.10      0.19      2182\n",
      "\n",
      "avg / total       0.93      0.93      0.91     29978\n",
      "\n"
     ]
    }
   ],
   "source": [
    "print(classification_report(y_valid,y1_pred_valid))"
   ]
  },
  {
   "cell_type": "code",
   "execution_count": 92,
   "metadata": {},
   "outputs": [],
   "source": [
    "y_valid_dec=model1.decision_function(X_valid)"
   ]
  },
  {
   "cell_type": "code",
   "execution_count": 93,
   "metadata": {},
   "outputs": [
    {
     "name": "stdout",
     "output_type": "stream",
     "text": [
      "AUC: 0.7535533124733969\n"
     ]
    }
   ],
   "source": [
    "print(\"AUC: {}\".format(roc_auc_score(y_valid,y_valid_dec)))"
   ]
  },
  {
   "cell_type": "markdown",
   "metadata": {},
   "source": [
    "We see that our model is nearly a majority class classifier. It does not predict the positive class very well. We could improve the prediction of the minority (positive) class if we lower the threshold below zero. In otherwords, instead of predicting class 1 for decision values above zero, it will predict class 1 if the decision value is higher than some lower (negative number) value.\n",
    "\n",
    "Let's see if adjusting the threshold value will help us efficiently capture the 1 target (positive class) values. We will look at the ROC curve. We know that lowering the threshold will allow us to capture more true positives, but the false positives will increase as well. Viewing the ROC curve (true positives vs. false positives) will allow us to see how where we begin getting deminishing returns.\n",
    "\n",
    "First, let us find the min values for the decision function, so we know what range we should consider."
   ]
  },
  {
   "cell_type": "code",
   "execution_count": 94,
   "metadata": {},
   "outputs": [
    {
     "data": {
      "text/plain": [
       "count    29978.000000\n",
       "mean        -3.048071\n",
       "std          2.335026\n",
       "min        -30.081691\n",
       "25%         -2.908841\n",
       "50%         -2.908841\n",
       "75%         -2.490797\n",
       "max        106.853572\n",
       "dtype: float64"
      ]
     },
     "execution_count": 94,
     "metadata": {},
     "output_type": "execute_result"
    }
   ],
   "source": [
    "pd.Series(y_valid_dec).describe()"
   ]
  },
  {
   "cell_type": "markdown",
   "metadata": {},
   "source": [
    "To generate the values of the roc curve, we could use sklearn.metrics method roc_curve, however, I will manually define our own roc curve generating function. This, way we can manually set the number of data points plotted, and we can visually inspect the inner workings of this plot. This will be helpful if we decide to alter our model to make predictions at a lower threshold, and also help us to generate \"loss\" functions based on confusion matrix values, that derive from predictions at different thresholds. For example, suppose we knew the cost of false positives and false negatives, and knew the revenue gained for true positives (or true negatives). We could find then derive a profit function, which would be a function of threshold. Presumably we would want to maximize this function."
   ]
  },
  {
   "cell_type": "code",
   "execution_count": 95,
   "metadata": {},
   "outputs": [],
   "source": [
    "def roc_curve_manual(y_true,y_pred_dec,low_thresh,high_thresh,increment):\n",
    "    true_pos_rate=[]\n",
    "    false_pos_rate=[]\n",
    "    true_neg_rate=[]\n",
    "    false_neg_rate=[]\n",
    "    for thresh in np.arange(low_thresh,high_thresh,increment):\n",
    "        y_pred_lt=(y_pred_dec>thresh)*1\n",
    "        ltc=confusion_matrix(y_true,y_pred_lt)\n",
    "        tn=ltc[0][0]\n",
    "        fn=ltc[1][0]\n",
    "        fp=ltc[0][1]\n",
    "        tp=ltc[1][1]\n",
    "        tpr=tp/(tp+fn)\n",
    "        fpr=fp/(fp+tn)\n",
    "        tnr=tn/(tn+fp)\n",
    "        fnr=fn/(tp+fn)\n",
    "        true_pos_rate.append(tpr)\n",
    "        false_pos_rate.append(fpr)\n",
    "        true_neg_rate.append(tnr)\n",
    "        false_neg_rate.append(fnr)\n",
    "    return false_pos_rate,true_pos_rate,false_neg_rate,true_neg_rate"
   ]
  },
  {
   "cell_type": "code",
   "execution_count": 212,
   "metadata": {},
   "outputs": [],
   "source": [
    "fpr,tpr,fnr,tnr=roc_curve_manual(y_valid,y_valid_dec,-30,10,0.1)"
   ]
  },
  {
   "cell_type": "code",
   "execution_count": 213,
   "metadata": {},
   "outputs": [
    {
     "data": {
      "text/plain": [
       "Text(0.5,1,'ROC Curve')"
      ]
     },
     "execution_count": 213,
     "metadata": {},
     "output_type": "execute_result"
    },
    {
     "data": {
      "image/png": "[encoded data removed]",
      "text/plain": [
       "<matplotlib.figure.Figure at 0x2180378d630>"
      ]
     },
     "metadata": {},
     "output_type": "display_data"
    }
   ],
   "source": [
    "plt.plot(fpr,tpr,\".\")\n",
    "plt.xlabel(\"False Positive Rate\")\n",
    "plt.ylabel(\"True Positive Rate\")\n",
    "plt.title(\"ROC Curve\")"
   ]
  },
  {
   "cell_type": "markdown",
   "metadata": {},
   "source": [
    "Let's isolate the threshold that leads to the the point around .5 tpr."
   ]
  },
  {
   "cell_type": "code",
   "execution_count": 215,
   "metadata": {},
   "outputs": [
    {
     "data": {
      "text/plain": [
       "277    0.478460\n",
       "278    0.476169\n",
       "279    0.472502\n",
       "dtype: float64"
      ]
     },
     "execution_count": 215,
     "metadata": {},
     "output_type": "execute_result"
    }
   ],
   "source": [
    "tpr_series=pd.Series(tpr)\n",
    "tpr_series[(tpr_series>.45)&(tpr_series<.55)]"
   ]
  },
  {
   "cell_type": "code",
   "execution_count": 217,
   "metadata": {},
   "outputs": [
    {
     "data": {
      "text/plain": [
       "-2.2999999999996064"
      ]
     },
     "execution_count": 217,
     "metadata": {},
     "output_type": "execute_result"
    }
   ],
   "source": [
    "#Determine the optimum threshold\n",
    "opt_thresh=np.arange(-30,10,0.1)[277]\n",
    "opt_thresh"
   ]
  },
  {
   "cell_type": "code",
   "execution_count": 220,
   "metadata": {},
   "outputs": [],
   "source": [
    "#Define the predictor with the above threshold\n",
    "def opt_pred(X):\n",
    "    y_dec=model1.decision_function(X)\n",
    "    return (y_dec>-2.3)*1"
   ]
  },
  {
   "cell_type": "code",
   "execution_count": 221,
   "metadata": {},
   "outputs": [],
   "source": [
    "yopt_valid_pred=opt_pred(X_valid)"
   ]
  },
  {
   "cell_type": "code",
   "execution_count": 222,
   "metadata": {},
   "outputs": [
    {
     "name": "stdout",
     "output_type": "stream",
     "text": [
      "             precision    recall  f1-score   support\n",
      "\n",
      "        0.0       0.96      0.93      0.94     27796\n",
      "        1.0       0.34      0.48      0.40      2182\n",
      "\n",
      "avg / total       0.91      0.90      0.90     29978\n",
      "\n"
     ]
    }
   ],
   "source": [
    "print(classification_report(y_valid,yopt_valid_pred))"
   ]
  },
  {
   "cell_type": "markdown",
   "metadata": {},
   "source": [
    "We have found a way to improve the recall of the positive class. Now, let's investigate if we can develop a better model that is adapted to an imbalanced data set."
   ]
  },
  {
   "cell_type": "markdown",
   "metadata": {},
   "source": [
    "## Hypothetical Optimization Problem\n",
    "\n",
    "Let's consider a hypothetical case where we aim to maximize our profits. We wish to correctly identify the positive class. We know the income recieved for identification of each true positive and the cost for each false positive. Let's suppose true positives bring in 10 dollars each and false positives cost us 1 dollar each. \n",
    "\n",
    "We wish to maximize our profit, which is the difference of ten times the true positives, and the number of false positives. Can we find the threshold that maximizes our profits?"
   ]
  },
  {
   "cell_type": "code",
   "execution_count": 244,
   "metadata": {},
   "outputs": [],
   "source": [
    "#Define a profit function that returns profits over the range of decision values\n",
    "def profit_curve(y_true,y_pred_dec,low_thresh,high_thresh,increment):\n",
    "    profits=[]\n",
    "    thresh_list=list(np.arange(low_thresh,high_thresh,increment))\n",
    "    for thresh in thresh_list:\n",
    "        y_pred_lt=(y_pred_dec>thresh)*1\n",
    "        ltc=confusion_matrix(y_true,y_pred_lt)\n",
    "        fp=ltc[0][1]\n",
    "        tp=ltc[1][1]\n",
    "        profit=10*tp-fp\n",
    "        profits.append(profit)\n",
    "    return profits,thresh_list"
   ]
  },
  {
   "cell_type": "code",
   "execution_count": 245,
   "metadata": {},
   "outputs": [],
   "source": [
    "profits,thresholds=profit_curve(y_valid,y_valid_dec,-30,10,0.1)"
   ]
  },
  {
   "cell_type": "code",
   "execution_count": 246,
   "metadata": {},
   "outputs": [
    {
     "data": {
      "text/plain": [
       "Text(0.5,1,'Profits vs. Threshold')"
      ]
     },
     "execution_count": 246,
     "metadata": {},
     "output_type": "execute_result"
    },
    {
     "data": {
      "image/png": "[encoded data removed]",
      "text/plain": [
       "<matplotlib.figure.Figure at 0x21803a6ae80>"
      ]
     },
     "metadata": {},
     "output_type": "display_data"
    }
   ],
   "source": [
    "plt.plot(thresholds,profits,\"-\")\n",
    "plt.xlabel(\"Threshold\")\n",
    "plt.ylabel(\"Profit\")\n",
    "plt.title(\"Profits vs. Threshold\")"
   ]
  },
  {
   "cell_type": "code",
   "execution_count": 252,
   "metadata": {},
   "outputs": [
    {
     "name": "stdout",
     "output_type": "stream",
     "text": [
      "Maximum Profit: 8605\n",
      "Optimum Threshold: -2.199999999999605\n"
     ]
    }
   ],
   "source": [
    "max_profit=max(profits)\n",
    "optimum_threshold=thresholds[profits.index(max_profit)]\n",
    "print(\"Maximum Profit: {}\\nOptimum Threshold: {}\".format(max_profit,optimum_threshold))"
   ]
  },
  {
   "cell_type": "markdown",
   "metadata": {},
   "source": [
    "Not surprisingly, we found the optimum threshold for maximum profit to be very near the optimum threshold found from the tpr vs. fpr graph.\n",
    "\n",
    "Furthermore, the maximized profit looks to be at least four times larger than the profit expected from the model without adjusting the threshold (i.e. the profit we would expect at threshold=0)."
   ]
  },
  {
   "cell_type": "markdown",
   "metadata": {},
   "source": [
    "## Dealing with Unbalanced Data Sets\n",
    "\n",
    "Let us consider a few techniques to deal with this highly unbalanced data set. We aim to improve our auc score primarily, and our accuracy secondarily.\n",
    "\n",
    "### class_weight parameter\n",
    "\n",
    "The logistic regression classifier has a class_weight parameter. Setting this parameter to \"balanced\" imposes a penalty on making mistakes in the minority class. The penalty is inversely proportional to the class's frequency in the input data."
   ]
  },
  {
   "cell_type": "code",
   "execution_count": 98,
   "metadata": {},
   "outputs": [],
   "source": [
    "model2=LogisticRegression(random_state=2,class_weight=\"balanced\").fit(X_train,y_train)"
   ]
  },
  {
   "cell_type": "code",
   "execution_count": 99,
   "metadata": {},
   "outputs": [],
   "source": [
    "y2_valid_dec=model2.decision_function(X_valid)"
   ]
  },
  {
   "cell_type": "code",
   "execution_count": 100,
   "metadata": {},
   "outputs": [
    {
     "name": "stdout",
     "output_type": "stream",
     "text": [
      "Train Accuracy: 0.8999688653649424\n",
      "Validation Accuracy: 0.9025285209153379\n",
      "AUC: 0.7534628768404187\n"
     ]
    }
   ],
   "source": [
    "print(\"Train Accuracy: {}\".format(model2.score(X_train,y_train)))\n",
    "print(\"Validation Accuracy: {}\".format(model2.score(X_valid,y_valid)))\n",
    "print(\"AUC: {}\".format(roc_auc_score(y_valid,y2_valid_dec)))"
   ]
  },
  {
   "cell_type": "code",
   "execution_count": 101,
   "metadata": {},
   "outputs": [
    {
     "data": {
      "text/plain": [
       "count    29978.000000\n",
       "mean        -0.265379\n",
       "std          2.258371\n",
       "min         -7.914724\n",
       "25%         -0.443832\n",
       "50%         -0.443832\n",
       "75%         -0.328895\n",
       "max        183.253307\n",
       "dtype: float64"
      ]
     },
     "execution_count": 101,
     "metadata": {},
     "output_type": "execute_result"
    }
   ],
   "source": [
    "pd.Series(y2_valid_dec).describe()"
   ]
  },
  {
   "cell_type": "code",
   "execution_count": 102,
   "metadata": {},
   "outputs": [],
   "source": [
    "fpr2,tpr2,fnr2,tnr2=roc_curve_manual(y_valid,y2_valid_dec,-7.9,10,0.1)"
   ]
  },
  {
   "cell_type": "code",
   "execution_count": 103,
   "metadata": {},
   "outputs": [
    {
     "data": {
      "text/plain": [
       "Text(0.5,1,'ROC Curve')"
      ]
     },
     "execution_count": 103,
     "metadata": {},
     "output_type": "execute_result"
    },
    {
     "data": {
      "image/png": "[encoded data removed]",
      "text/plain": [
       "<matplotlib.figure.Figure at 0x21802888470>"
      ]
     },
     "metadata": {},
     "output_type": "display_data"
    }
   ],
   "source": [
    "plt.plot(fpr2,tpr2,\".\")\n",
    "plt.xlabel(\"False Positive Rate\")\n",
    "plt.ylabel(\"True Positive Rate\")\n",
    "plt.title(\"ROC Curve\")"
   ]
  },
  {
   "cell_type": "markdown",
   "metadata": {},
   "source": [
    "This did not seem to help at all. Let's repeat these two steps with a support vector machine."
   ]
  },
  {
   "cell_type": "markdown",
   "metadata": {},
   "source": [
    "### Support Vector Machine\n",
    "\n",
    "In order to get the auc roc score and curve, we need to set the probability parameter to True in the SVC. This will increase the time to fit the model, significantly. However, this is a necessary evil."
   ]
  },
  {
   "cell_type": "code",
   "execution_count": 105,
   "metadata": {},
   "outputs": [],
   "source": [
    "svm1=SVC(probability=True).fit(X_train,y_train)"
   ]
  },
  {
   "cell_type": "code",
   "execution_count": 106,
   "metadata": {},
   "outputs": [],
   "source": [
    "y3_valid_dec=svm1.decision_function(X_valid)"
   ]
  },
  {
   "cell_type": "code",
   "execution_count": 107,
   "metadata": {},
   "outputs": [
    {
     "name": "stdout",
     "output_type": "stream",
     "text": [
      "Train Accuracy: 0.9357848151937019\n",
      "Validation Accuracy: 0.9351190873307091\n",
      "AUC: 0.5121161407209447\n"
     ]
    }
   ],
   "source": [
    "print(\"Train Accuracy: {}\".format(svm1.score(X_train,y_train)))\n",
    "print(\"Validation Accuracy: {}\".format(svm1.score(X_valid,y_valid)))\n",
    "print(\"AUC: {}\".format(roc_auc_score(y_valid,y3_valid_dec)))"
   ]
  },
  {
   "cell_type": "markdown",
   "metadata": {},
   "source": [
    "This result is surprisingly worse. Let's investigate what went wrong with a confusion matrix."
   ]
  },
  {
   "cell_type": "code",
   "execution_count": 108,
   "metadata": {},
   "outputs": [],
   "source": [
    "y3_pred_valid=svm1.predict(X_valid)"
   ]
  },
  {
   "cell_type": "code",
   "execution_count": 109,
   "metadata": {},
   "outputs": [
    {
     "data": {
      "text/plain": [
       "array([[27784,    12],\n",
       "       [ 1933,   249]], dtype=int64)"
      ]
     },
     "execution_count": 109,
     "metadata": {},
     "output_type": "execute_result"
    }
   ],
   "source": [
    "confusion_matrix(y_valid,y3_pred_valid)"
   ]
  },
  {
   "cell_type": "code",
   "execution_count": 114,
   "metadata": {},
   "outputs": [],
   "source": [
    "fpr4,tpr4,thresholds4=roc_curve(y_valid,y3_valid_dec)"
   ]
  },
  {
   "cell_type": "code",
   "execution_count": 115,
   "metadata": {},
   "outputs": [
    {
     "data": {
      "text/plain": [
       "Text(0.5,1,'ROC Curve')"
      ]
     },
     "execution_count": 115,
     "metadata": {},
     "output_type": "execute_result"
    },
    {
     "data": {
      "image/png": "[encoded data removed]",
      "text/plain": [
       "<matplotlib.figure.Figure at 0x218039fd4e0>"
      ]
     },
     "metadata": {},
     "output_type": "display_data"
    }
   ],
   "source": [
    "plt.plot(fpr4,tpr4,\".\")\n",
    "plt.xlabel(\"False Positive Rate\")\n",
    "plt.ylabel(\"True Positive Rate\")\n",
    "plt.title(\"ROC Curve\")"
   ]
  },
  {
   "cell_type": "markdown",
   "metadata": {},
   "source": [
    "This is not an ideal ROC curve. Let's train another svm with the class_weight parameter set to \"balanced\"."
   ]
  },
  {
   "cell_type": "code",
   "execution_count": 118,
   "metadata": {},
   "outputs": [],
   "source": [
    "svm2=SVC(probability=True,class_weight=\"balanced\").fit(X_train,y_train)"
   ]
  },
  {
   "cell_type": "code",
   "execution_count": 119,
   "metadata": {},
   "outputs": [],
   "source": [
    "y4_valid_dec=svm2.decision_function(X_valid)"
   ]
  },
  {
   "cell_type": "code",
   "execution_count": 120,
   "metadata": {},
   "outputs": [
    {
     "name": "stdout",
     "output_type": "stream",
     "text": [
      "Train Accuracy: 0.8998799092647778\n",
      "Validation Accuracy: 0.9023617319367536\n",
      "AUC: 0.6872861943353425\n"
     ]
    }
   ],
   "source": [
    "print(\"Train Accuracy: {}\".format(svm2.score(X_train,y_train)))\n",
    "print(\"Validation Accuracy: {}\".format(svm2.score(X_valid,y_valid)))\n",
    "print(\"AUC: {}\".format(roc_auc_score(y_valid,y4_valid_dec)))"
   ]
  },
  {
   "cell_type": "markdown",
   "metadata": {},
   "source": [
    "We see an improvement over the svm not using the balanced class weight, however, the auc roc score is still lower than that obtained with logistic regression. Let's abandon the svm approach and move on to other methods."
   ]
  },
  {
   "cell_type": "markdown",
   "metadata": {},
   "source": [
    "### Up Sampling the Minority Class\n",
    "\n",
    "Since the support vector machine did not help us achieve a higher auc roc score (and added a lot more time spent on training and classifying), we will go back to the logistic regression. However, we will attempt to \"manufacture\" a balanced data set. This technique will help the machine learning algorithm train a model that values predictions of the positive (minority) class as much as predictions of the majority class.\n",
    "\n",
    "The idea is to duplicate random occurences of the minority class, untill the classes are in equal proportion. This is a three step process. \n",
    "\n",
    "Step1: Separate rows of the data frame into separate data frames based on their class.\n",
    "\n",
    "Step2: Resample the minority class, with replacement, so that the minority class has the same number of observations (rows) as the majority class.\n",
    "\n",
    "step3: Combine the resampled minority class with the majority class and call this dataframe our train set."
   ]
  },
  {
   "cell_type": "code",
   "execution_count": 122,
   "metadata": {},
   "outputs": [],
   "source": [
    "#sklearn has a method to help us with resampling\n",
    "from sklearn.utils import resample"
   ]
  },
  {
   "cell_type": "code",
   "execution_count": 128,
   "metadata": {},
   "outputs": [],
   "source": [
    "#Combine the X_train with the target set y_train\n",
    "df_train=pd.concat([X_train,y_train],axis=1)\n",
    "\n",
    "# Separate majority and minority classes into separate dataframes\n",
    "df_majority=df_train[df_train.compliance==0]\n",
    "df_minority=df_train[df_train.compliance==1]\n",
    "\n",
    "#Use sklearn's resample method to resample the minority class. The first input is the dataframe to resample, then\n",
    "#we set replace=True. The n_samples parameter sets the number of samples to generate, i.e. the total number of rows\n",
    "#Thus, we want to set this parameter to len(df_majority). Finally, we can set the random_state.\n",
    "df_minority_upsampled = resample(df_minority,replace=True,n_samples=len(df_majority),random_state=2)\n",
    "\n",
    "#Combine the df_minority_upsampled dataframe with the df_majority using concat\n",
    "df_upsampled=pd.concat([df_majority,df_minority_upsampled])"
   ]
  },
  {
   "cell_type": "code",
   "execution_count": 129,
   "metadata": {},
   "outputs": [
    {
     "name": "stdout",
     "output_type": "stream",
     "text": [
      "Majority class rows: 83424\n",
      "Minority class rows 83424\n"
     ]
    }
   ],
   "source": [
    "#Let's check the counts of the majority and minority classes in our new dataframe, df_upsampled\n",
    "print(\"Majority class rows: {}\\nMinority class rows {}\".format(len(df_upsampled[df_upsampled.compliance==0]),\n",
    "                                                           len(df_upsampled[df_upsampled.compliance==1])))"
   ]
  },
  {
   "cell_type": "code",
   "execution_count": 130,
   "metadata": {},
   "outputs": [],
   "source": [
    "#Create a new X_train and target set from our balanced set\n",
    "X_train_balanced=df_upsampled[traincolumns[:-1]]\n",
    "y_train_balanced=df_upsampled.compliance"
   ]
  },
  {
   "cell_type": "code",
   "execution_count": 131,
   "metadata": {},
   "outputs": [],
   "source": [
    "#Train a new logistic regression model\n",
    "logreg3=LogisticRegression(random_state=2).fit(X_train_balanced,y_train_balanced)"
   ]
  },
  {
   "cell_type": "code",
   "execution_count": 132,
   "metadata": {},
   "outputs": [],
   "source": [
    "#Find the decision_function values of the validation set\n",
    "y5_valid_dec=logreg3.decision_function(X_valid)"
   ]
  },
  {
   "cell_type": "code",
   "execution_count": 133,
   "metadata": {},
   "outputs": [
    {
     "name": "stdout",
     "output_type": "stream",
     "text": [
      "Train Accuracy: 0.7033167913310319\n",
      "Validation Accuracy: 0.9025285209153379\n",
      "AUC: 0.7534615907913079\n"
     ]
    }
   ],
   "source": [
    "#Print the train score (balanced set), validation score of our original validation set, and auc roc score\n",
    "print(\"Train Accuracy: {}\".format(logreg3.score(X_train_balanced,y_train_balanced)))\n",
    "print(\"Validation Accuracy: {}\".format(logreg3.score(X_valid,y_valid)))\n",
    "print(\"AUC: {}\".format(roc_auc_score(y_valid,y5_valid_dec)))"
   ]
  },
  {
   "cell_type": "markdown",
   "metadata": {},
   "source": [
    "We're seeing almost the same accuracy. Let's try manipulating the C parameter of the logistic regression model to try to get a more complex model. C is inversely proportional to the penalty strength, so let's make C large to make the penalty small."
   ]
  },
  {
   "cell_type": "code",
   "execution_count": 134,
   "metadata": {},
   "outputs": [],
   "source": [
    "logreg4=LogisticRegression(C=1e40,random_state=2).fit(X_train_balanced,y_train_balanced)"
   ]
  },
  {
   "cell_type": "code",
   "execution_count": 135,
   "metadata": {},
   "outputs": [],
   "source": [
    "#Find the decision_function values of the validation set\n",
    "y6_valid_dec=logreg4.decision_function(X_valid)"
   ]
  },
  {
   "cell_type": "code",
   "execution_count": 136,
   "metadata": {},
   "outputs": [
    {
     "name": "stdout",
     "output_type": "stream",
     "text": [
      "Train Accuracy: 0.7033167913310319\n",
      "Validation Accuracy: 0.9025285209153379\n",
      "AUC: 0.7534615907913079\n"
     ]
    }
   ],
   "source": [
    "#Print the train score (balanced set), validation score of our original validation set, and auc roc score\n",
    "print(\"Train Accuracy: {}\".format(logreg4.score(X_train_balanced,y_train_balanced)))\n",
    "print(\"Validation Accuracy: {}\".format(logreg4.score(X_valid,y_valid)))\n",
    "print(\"AUC: {}\".format(roc_auc_score(y_valid,y6_valid_dec)))"
   ]
  },
  {
   "cell_type": "markdown",
   "metadata": {},
   "source": [
    "Upsampling the minority class did not help."
   ]
  },
  {
   "cell_type": "markdown",
   "metadata": {},
   "source": [
    "### Down Sampling Majority Class.\n",
    "\n",
    "Down sampling the majority class has a similar effect of upsampling the minority class. The method is also similar, except we resample the majority class with replacement=False and the n_samples set to len(df_minority)"
   ]
  },
  {
   "cell_type": "code",
   "execution_count": 138,
   "metadata": {},
   "outputs": [],
   "source": [
    "#Downsample the majority class\n",
    "df_majority_downsampled = resample(df_majority,replace=False,n_samples=len(df_minority),random_state=2)\n",
    "\n",
    "#Combine the df_majority_downsampled dataframe with the df_minority using concat\n",
    "df_downsampled=pd.concat([df_minority,df_majority_downsampled])"
   ]
  },
  {
   "cell_type": "code",
   "execution_count": 139,
   "metadata": {},
   "outputs": [
    {
     "name": "stdout",
     "output_type": "stream",
     "text": [
      "Majority class rows: 6508\n",
      "Minority class rows 6508\n"
     ]
    }
   ],
   "source": [
    "#Let's check the counts of the majority and minority classes in our new dataframe, df_downsampled\n",
    "print(\"Majority class rows: {}\\nMinority class rows {}\".format(len(df_downsampled[df_downsampled.compliance==0]),\n",
    "                                                           len(df_downsampled[df_downsampled.compliance==1])))"
   ]
  },
  {
   "cell_type": "code",
   "execution_count": 140,
   "metadata": {},
   "outputs": [],
   "source": [
    "#Create a new X_train and target set from our downsampled balanced set\n",
    "X_train_balanced_down=df_downsampled[traincolumns[:-1]]\n",
    "y_train_balanced_down=df_downsampled.compliance"
   ]
  },
  {
   "cell_type": "code",
   "execution_count": 141,
   "metadata": {},
   "outputs": [],
   "source": [
    "#Fit a new logistic regression model\n",
    "logreg5=LogisticRegression(C=1e40,random_state=2).fit(X_train_balanced_down,y_train_balanced_down)"
   ]
  },
  {
   "cell_type": "code",
   "execution_count": 142,
   "metadata": {},
   "outputs": [],
   "source": [
    "#Find the decision_function values of the validation set\n",
    "y7_valid_dec=logreg5.decision_function(X_valid)"
   ]
  },
  {
   "cell_type": "code",
   "execution_count": 143,
   "metadata": {},
   "outputs": [
    {
     "name": "stdout",
     "output_type": "stream",
     "text": [
      "Train Accuracy: 0.701060233558697\n",
      "Validation Accuracy: 0.9025285209153379\n",
      "AUC: 0.7529941119395611\n"
     ]
    }
   ],
   "source": [
    "#Print the train score (balanced set), validation score of our original validation set, and auc roc score\n",
    "print(\"Train Accuracy: {}\".format(logreg5.score(X_train_balanced_down,y_train_balanced_down)))\n",
    "print(\"Validation Accuracy: {}\".format(logreg5.score(X_valid,y_valid)))\n",
    "print(\"AUC: {}\".format(roc_auc_score(y_valid,y7_valid_dec)))"
   ]
  },
  {
   "cell_type": "markdown",
   "metadata": {},
   "source": [
    "## Decision Tree Ensembles\n",
    "\n",
    "Our attempts to find an appropriate model using linear methods failed to achieve the results we wanted, i.e. a high auc roc score. Let us now consider two decision tree ensembles, random forests and boosted stumps. Decision trees have the disadvantage of slow learning and predicting, but since our data set is relatively small, this shouldn't be a problem. In fact, small data sets require extracting as much information out the data as possible, and this is where decision trees excel. The advantage of trees is that they can increase model complexity significantly. The disadvantage is that it is easy to overfit your models (too complex). However, random forests and boosted stumps can mitigate this effect.\n",
    "\n",
    "A single tree makes it easy to follow the decision making process, however, we are not so much concerned with the process of the tree, as with its final performance. For this reason, let's skip the single tree and move on to the tree ensembles, which have a proven track record.\n",
    "\n",
    "### Random Forests"
   ]
  },
  {
   "cell_type": "code",
   "execution_count": 152,
   "metadata": {},
   "outputs": [],
   "source": [
    "#Fit a random forest classifier with n_estimators=1000\n",
    "rf1=RandomForestClassifier(n_estimators=1000,random_state=2).fit(X_train,y_train)"
   ]
  },
  {
   "cell_type": "code",
   "execution_count": 169,
   "metadata": {},
   "outputs": [],
   "source": [
    "#Get the predict probabilities\n",
    "y1_valid_proba=rf1.predict_proba(X_valid)[:,1]"
   ]
  },
  {
   "cell_type": "code",
   "execution_count": 170,
   "metadata": {},
   "outputs": [
    {
     "name": "stdout",
     "output_type": "stream",
     "text": [
      "Train Accuracy: 0.9357848151937019\n",
      "Validation Accuracy: 0.9351190873307091\n",
      "AUC: 0.75792022413132\n"
     ]
    }
   ],
   "source": [
    "print(\"Train Accuracy: {}\\nValidation Accuracy: {}\\nAUC: {}\".format(rf1.score(X_train,y_train),\n",
    "                                                                    rf1.score(X_valid,y_valid),\n",
    "                                                                   roc_auc_score(y_valid,y1_valid_proba)))"
   ]
  },
  {
   "cell_type": "code",
   "execution_count": 171,
   "metadata": {},
   "outputs": [
    {
     "name": "stdout",
     "output_type": "stream",
     "text": [
      "             precision    recall  f1-score   support\n",
      "\n",
      "        0.0       0.93      1.00      0.97     27796\n",
      "        1.0       0.95      0.11      0.20      2182\n",
      "\n",
      "avg / total       0.94      0.94      0.91     29978\n",
      "\n"
     ]
    }
   ],
   "source": [
    "y_rf_pred_valid=rf1.predict(X_valid)\n",
    "print(classification_report(y_valid,y_rf_pred_valid))"
   ]
  },
  {
   "cell_type": "markdown",
   "metadata": {},
   "source": [
    "Although the auc hasn't improved much, we see that the precision of the positive class (class 1) has improved from .87 to .95 since the first time we measured, while recall has remained the same. This may be a slight improvement. However, it could also be due to chance.\n",
    "\n",
    "Let's train another random forest classifier with the class_weight parameter set to \"balanced.\""
   ]
  },
  {
   "cell_type": "code",
   "execution_count": 157,
   "metadata": {},
   "outputs": [],
   "source": [
    "#Train another random forest classifier with class_weight=\"balanced\"\n",
    "rf2=RandomForestClassifier(n_estimators=1000,class_weight=\"balanced\",random_state=2).fit(X_train,y_train)"
   ]
  },
  {
   "cell_type": "code",
   "execution_count": 177,
   "metadata": {},
   "outputs": [],
   "source": [
    "#Get the predict and predict probabilities of X_valid\n",
    "y2_valid_proba=rf2.predict_proba(X_valid)[:,1]\n",
    "y2_rf_pred_valid=rf2.predict(X_valid)"
   ]
  },
  {
   "cell_type": "code",
   "execution_count": 178,
   "metadata": {},
   "outputs": [
    {
     "name": "stdout",
     "output_type": "stream",
     "text": [
      "Train Accuracy: 0.8998799092647778\n",
      "Validation Accuracy: 0.9023950897324705\n",
      "AUC: 0.7578625167994287\n"
     ]
    }
   ],
   "source": [
    "print(\"Train Accuracy: {}\\nValidation Accuracy: {}\\nAUC: {}\".format(rf2.score(X_train,y_train),\n",
    "                                                                    rf2.score(X_valid,y_valid),\n",
    "                                                                   roc_auc_score(y_valid,y2_valid_proba)))"
   ]
  },
  {
   "cell_type": "code",
   "execution_count": 179,
   "metadata": {},
   "outputs": [
    {
     "name": "stdout",
     "output_type": "stream",
     "text": [
      "             precision    recall  f1-score   support\n",
      "\n",
      "        0.0       0.96      0.94      0.95     27796\n",
      "        1.0       0.37      0.48      0.42      2182\n",
      "\n",
      "avg / total       0.92      0.90      0.91     29978\n",
      "\n"
     ]
    }
   ],
   "source": [
    "#Classification report\n",
    "print(classification_report(y_valid,y2_rf_pred_valid))"
   ]
  },
  {
   "cell_type": "markdown",
   "metadata": {},
   "source": [
    "We finally see some improvement! At the expense of total accuracy and precision of the positive class, we see a large improvement of the recall of the positive class (from 0.11 to 0.48)"
   ]
  },
  {
   "cell_type": "markdown",
   "metadata": {},
   "source": [
    "### Gradient Boosted Stumps"
   ]
  },
  {
   "cell_type": "code",
   "execution_count": 186,
   "metadata": {},
   "outputs": [],
   "source": [
    "#train a gradient boosted ensemble of tree stumps with 5000 estimators, and the default max depth of 3\n",
    "gbt1=GradientBoostingClassifier(random_state=2,n_estimators=5000).fit(X_train,y_train)"
   ]
  },
  {
   "cell_type": "code",
   "execution_count": 187,
   "metadata": {},
   "outputs": [],
   "source": [
    "#Get the predict and predict probabilities of X_valid\n",
    "y3_valid_proba=gbt1.predict_proba(X_valid)[:,1]\n",
    "y3_gbt_pred_valid=gbt1.predict(X_valid)"
   ]
  },
  {
   "cell_type": "code",
   "execution_count": 188,
   "metadata": {},
   "outputs": [
    {
     "name": "stdout",
     "output_type": "stream",
     "text": [
      "Train Accuracy: 0.9357848151937019\n",
      "Validation Accuracy: 0.9351190873307091\n",
      "AUC: 0.757939251063035\n"
     ]
    }
   ],
   "source": [
    "print(\"Train Accuracy: {}\\nValidation Accuracy: {}\\nAUC: {}\".format(gbt1.score(X_train,y_train),\n",
    "                                                                    gbt1.score(X_valid,y_valid),\n",
    "                                                                   roc_auc_score(y_valid,y3_valid_proba)))"
   ]
  },
  {
   "cell_type": "code",
   "execution_count": 190,
   "metadata": {},
   "outputs": [
    {
     "name": "stdout",
     "output_type": "stream",
     "text": [
      "             precision    recall  f1-score   support\n",
      "\n",
      "        0.0       0.93      1.00      0.97     27796\n",
      "        1.0       0.95      0.11      0.20      2182\n",
      "\n",
      "avg / total       0.94      0.94      0.91     29978\n",
      "\n"
     ]
    }
   ],
   "source": [
    "#Classification report\n",
    "print(classification_report(y_valid,y3_gbt_pred_valid))"
   ]
  },
  {
   "cell_type": "markdown",
   "metadata": {},
   "source": [
    "Let's try 1000 estimators and max_depth=6"
   ]
  },
  {
   "cell_type": "code",
   "execution_count": 191,
   "metadata": {},
   "outputs": [],
   "source": [
    "gbt2=GradientBoostingClassifier(random_state=2,n_estimators=1000,max_depth=6).fit(X_train,y_train)"
   ]
  },
  {
   "cell_type": "code",
   "execution_count": 192,
   "metadata": {},
   "outputs": [],
   "source": [
    "#Get the predict and predict probabilities of X_valid\n",
    "y4_valid_proba=gbt2.predict_proba(X_valid)[:,1]\n",
    "y4_gbt_pred_valid=gbt2.predict(X_valid)"
   ]
  },
  {
   "cell_type": "code",
   "execution_count": 194,
   "metadata": {},
   "outputs": [
    {
     "name": "stdout",
     "output_type": "stream",
     "text": [
      "Train Accuracy: 0.9357848151937019\n",
      "Validation Accuracy: 0.9351190873307091\n",
      "AUC: 0.7579396137948354\n"
     ]
    }
   ],
   "source": [
    "print(\"Train Accuracy: {}\\nValidation Accuracy: {}\\nAUC: {}\".format(gbt2.score(X_train,y_train),\n",
    "                                                                    gbt2.score(X_valid,y_valid),\n",
    "                                                                   roc_auc_score(y_valid,y4_valid_proba)))"
   ]
  },
  {
   "cell_type": "code",
   "execution_count": 195,
   "metadata": {},
   "outputs": [
    {
     "name": "stdout",
     "output_type": "stream",
     "text": [
      "             precision    recall  f1-score   support\n",
      "\n",
      "        0.0       0.93      1.00      0.97     27796\n",
      "        1.0       0.95      0.11      0.20      2182\n",
      "\n",
      "avg / total       0.94      0.94      0.91     29978\n",
      "\n"
     ]
    }
   ],
   "source": [
    "#Classification report\n",
    "print(classification_report(y_valid,y4_gbt_pred_valid))"
   ]
  },
  {
   "cell_type": "markdown",
   "metadata": {},
   "source": [
    "No improvement by making the depth deeper. Let's try assigning a higher weight to the positive class in the fit method."
   ]
  },
  {
   "cell_type": "code",
   "execution_count": 203,
   "metadata": {},
   "outputs": [],
   "source": [
    "#Create a series of weights, where class one will be given weight 13 and class 0 will have weight 1\n",
    "weight_series=y_train.apply(lambda x: 13 if x==1 else 1)"
   ]
  },
  {
   "cell_type": "code",
   "execution_count": 208,
   "metadata": {},
   "outputs": [],
   "source": [
    "gbt3=GradientBoostingClassifier(random_state=2,n_estimators=1000).fit(X_train,y_train,sample_weight=weight_series)"
   ]
  },
  {
   "cell_type": "code",
   "execution_count": 209,
   "metadata": {},
   "outputs": [],
   "source": [
    "#Get the predict and predict probabilities of X_valid\n",
    "y5_valid_proba=gbt3.predict_proba(X_valid)[:,1]\n",
    "y5_gbt_pred_valid=gbt3.predict(X_valid)"
   ]
  },
  {
   "cell_type": "code",
   "execution_count": 210,
   "metadata": {},
   "outputs": [
    {
     "name": "stdout",
     "output_type": "stream",
     "text": [
      "Train Accuracy: 0.8998799092647778\n",
      "Validation Accuracy: 0.9023950897324705\n",
      "AUC: 0.7579397786729266\n"
     ]
    }
   ],
   "source": [
    "print(\"Train Accuracy: {}\\nValidation Accuracy: {}\\nAUC: {}\".format(gbt3.score(X_train,y_train),\n",
    "                                                                    gbt3.score(X_valid,y_valid),\n",
    "                                                                   roc_auc_score(y_valid,y5_valid_proba)))"
   ]
  },
  {
   "cell_type": "code",
   "execution_count": 211,
   "metadata": {},
   "outputs": [
    {
     "name": "stdout",
     "output_type": "stream",
     "text": [
      "             precision    recall  f1-score   support\n",
      "\n",
      "        0.0       0.96      0.94      0.95     27796\n",
      "        1.0       0.37      0.48      0.42      2182\n",
      "\n",
      "avg / total       0.92      0.90      0.91     29978\n",
      "\n"
     ]
    }
   ],
   "source": [
    "#Classification report\n",
    "print(classification_report(y_valid,y5_gbt_pred_valid))"
   ]
  },
  {
   "cell_type": "markdown",
   "metadata": {},
   "source": [
    "We see that we have recovered the same results as the class_weight balanced random forest"
   ]
  },
  {
   "cell_type": "markdown",
   "metadata": {},
   "source": [
    "## Results"
   ]
  },
  {
   "cell_type": "markdown",
   "metadata": {},
   "source": [
    "The balanced forest and the balanced boosted stumps had the same results. We see that the balanced boosted stumps has a slightly better precision score for the positive class than the threshold optimized logistic regression model, and all other values are similar. Let's choose model gbt3 as our choice model. The validation scores are only slightly better in this model than the threshold optimized linear model, so if speed of prediction was paramount, we could have chosen the linear model.\n",
    "\n",
    "Let's test this model on the test set."
   ]
  },
  {
   "cell_type": "code",
   "execution_count": 228,
   "metadata": {},
   "outputs": [],
   "source": [
    "y6_test_proba=gbt3.predict_proba(X_test)[:,1]\n",
    "y6_gbt_pred_test=gbt3.predict(X_test)"
   ]
  },
  {
   "cell_type": "code",
   "execution_count": 227,
   "metadata": {},
   "outputs": [
    {
     "name": "stdout",
     "output_type": "stream",
     "text": [
      "Test Accuracy: 0.9020015011258444\n",
      "AUC: 0.7614329939851483\n"
     ]
    }
   ],
   "source": [
    "print(\"Test Accuracy: {}\\nAUC: {}\".format(gbt3.score(X_test,y_test),roc_auc_score(y_test,y6_test_proba)))"
   ]
  },
  {
   "cell_type": "code",
   "execution_count": 229,
   "metadata": {},
   "outputs": [
    {
     "name": "stdout",
     "output_type": "stream",
     "text": [
      "             precision    recall  f1-score   support\n",
      "\n",
      "        0.0       0.96      0.93      0.95     37063\n",
      "        1.0       0.37      0.49      0.42      2907\n",
      "\n",
      "avg / total       0.92      0.90      0.91     39970\n",
      "\n"
     ]
    }
   ],
   "source": [
    "#Classification report\n",
    "print(classification_report(y_test,y6_gbt_pred_test))"
   ]
  },
  {
   "cell_type": "markdown",
   "metadata": {},
   "source": [
    "## Conclusion\n",
    "\n",
    "Our best predictor had a test accuracy of 90%, and AUC of 0.76. The test accuracy is 3% less than the accuracy of a dummy majority class predictor, however, we managed to achieve a recall of 49% and precision of 37% in the minority class, and an overall recall of 90% and precision of 92%.\n",
    "\n",
    "We used several methods to deal with a highly unbalanced data set in attempt to improve the AUC score. All methods failed to improve AUC, however, we were able to increase the precision and recall values of the minority class to those mentioned previously.\n",
    "\n",
    "Lastly, we demonstrated a hypothetical optimization problem that demonstrates the use of increasing the recall of the minority class, even if it is associated with a decreased accuracy."
   ]
  },
  {
   "cell_type": "code",
   "execution_count": null,
   "metadata": {},
   "outputs": [],
   "source": []
  }
 ],
 "metadata": {
  "anaconda-cloud": {},
  "coursera": {
   "course_slug": "python-machine-learning",
   "graded_item_id": "nNS8l",
   "launcher_item_id": "yWWk7",
   "part_id": "w8BSS"
  },
  "kernelspec": {
   "display_name": "Python [default]",
   "language": "python",
   "name": "python3"
  },
  "language_info": {
   "codemirror_mode": {
    "name": "ipython",
    "version": 3
   },
   "file_extension": ".py",
   "mimetype": "text/x-python",
   "name": "python",
   "nbconvert_exporter": "python",
   "pygments_lexer": "ipython3",
   "version": "3.5.4"
  }
 },
 "nbformat": 4,
 "nbformat_minor": 2
}
